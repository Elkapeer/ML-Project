{
 "cells": [
  {
   "cell_type": "code",
   "execution_count": 1,
   "id": "873f8244",
   "metadata": {
    "execution": {
     "iopub.execute_input": "2025-04-21T11:42:12.586450Z",
     "iopub.status.busy": "2025-04-21T11:42:12.586161Z",
     "iopub.status.idle": "2025-04-21T11:42:12.881541Z",
     "shell.execute_reply": "2025-04-21T11:42:12.880516Z",
     "shell.execute_reply.started": "2025-04-21T11:42:12.586428Z"
    },
    "trusted": true
   },
   "outputs": [],
   "source": [
    "import pandas as pd\n",
    "from sklearn.model_selection import train_test_split, GridSearchCV\n",
    "from sklearn.preprocessing import StandardScaler\n",
    "from sklearn.metrics import accuracy_score, f1_score, roc_auc_score, confusion_matrix, ConfusionMatrixDisplay, precision_score, recall_score, average_precision_score\n",
    "import matplotlib.pyplot as plt\n",
    "import numpy as np\n",
    "from tqdm import tqdm\n",
    "from imblearn.over_sampling import SMOTE\n",
    "from xgboost import XGBClassifier"
   ]
  },
  {
   "cell_type": "markdown",
   "id": "639eb024",
   "metadata": {},
   "source": [
    "### We will try to solve the problem using XGBoost as an Ensemble model"
   ]
  },
  {
   "cell_type": "markdown",
   "id": "f86c3807",
   "metadata": {},
   "source": [
    "#### Loading Pre-processed Dataset & Training/Eval function"
   ]
  },
  {
   "cell_type": "code",
   "execution_count": 3,
   "id": "4847b558",
   "metadata": {
    "execution": {
     "iopub.execute_input": "2025-04-21T11:42:22.498730Z",
     "iopub.status.busy": "2025-04-21T11:42:22.498320Z",
     "iopub.status.idle": "2025-04-21T11:42:32.959022Z",
     "shell.execute_reply": "2025-04-21T11:42:32.957990Z",
     "shell.execute_reply.started": "2025-04-21T11:42:22.498697Z"
    },
    "trusted": true
   },
   "outputs": [],
   "source": [
    "# Load dataset from CSV\n",
    "csv_file = 'Dataset/cleaned.csv' \n",
    "df = pd.read_csv(csv_file)\n",
    "\n",
    "# Separate features and target\n",
    "y = df['anomaly'].values\n",
    "X = df.drop(columns=['anomaly']).values\n",
    "\n",
    "# Save meter_reading column separately\n",
    "meter_reading = df['meter_reading'].values\n",
    "\n",
    "# Scale the data\n",
    "scaler = StandardScaler()\n",
    "X = scaler.fit_transform(X)"
   ]
  },
  {
   "cell_type": "code",
   "execution_count": 4,
   "id": "72d3a3e3",
   "metadata": {
    "execution": {
     "iopub.execute_input": "2025-04-21T11:42:37.157565Z",
     "iopub.status.busy": "2025-04-21T11:42:37.156690Z",
     "iopub.status.idle": "2025-04-21T11:42:38.649037Z",
     "shell.execute_reply": "2025-04-21T11:42:38.647884Z",
     "shell.execute_reply.started": "2025-04-21T11:42:37.157518Z"
    },
    "trusted": true
   },
   "outputs": [
    {
     "name": "stdout",
     "output_type": "stream",
     "text": [
      "29837 1369758\n",
      "7459 342440\n",
      "(1399595, 29) (1399595,)\n",
      "(349899, 29) (349899,)\n"
     ]
    }
   ],
   "source": [
    "# Train/Test split with stratification\n",
    "X_train, X_test, y_train, y_test, meter_train, meter_test = train_test_split(\n",
    "    X, y, meter_reading, test_size=0.2, random_state=42, stratify=y)\n",
    "\n",
    "print(len(y_train[y_train == 1]), len(y_train[y_train == 0]))\n",
    "print(len(y_test[y_test == 1]), len(y_test[y_test == 0]))\n",
    "\n",
    "print(X_train.shape, y_train.shape)\n",
    "print(X_test.shape, y_test.shape)"
   ]
  },
  {
   "cell_type": "code",
   "execution_count": 7,
   "id": "2748c52c",
   "metadata": {
    "execution": {
     "iopub.execute_input": "2025-04-21T11:42:40.733573Z",
     "iopub.status.busy": "2025-04-21T11:42:40.733172Z",
     "iopub.status.idle": "2025-04-21T11:42:40.738375Z",
     "shell.execute_reply": "2025-04-21T11:42:40.737604Z",
     "shell.execute_reply.started": "2025-04-21T11:42:40.733546Z"
    },
    "trusted": true
   },
   "outputs": [],
   "source": [
    "model = XGBClassifier()"
   ]
  },
  {
   "cell_type": "code",
   "execution_count": 8,
   "id": "75ea2bdd",
   "metadata": {
    "execution": {
     "iopub.execute_input": "2025-04-21T11:42:42.940564Z",
     "iopub.status.busy": "2025-04-21T11:42:42.940210Z",
     "iopub.status.idle": "2025-04-21T11:42:42.950626Z",
     "shell.execute_reply": "2025-04-21T11:42:42.949355Z",
     "shell.execute_reply.started": "2025-04-21T11:42:42.940520Z"
    },
    "trusted": true
   },
   "outputs": [],
   "source": [
    "def trainAndEvaluate(show= False):\n",
    "\n",
    "    model.fit(X_train, y_train)\n",
    "    \n",
    "    # Evaluate on test set\n",
    "    test_pred = model.predict(X_test)\n",
    "    test_pred_proba = model.predict_proba(X_test)[:, 1]\n",
    "\n",
    "    # Set prediction to 0 where meter_reading is missing\n",
    "    test_pred = np.where(meter_test == -1, 0, test_pred)\n",
    "\n",
    "    # Metrics on test set\n",
    "    test_acc = accuracy_score(y_test, test_pred)\n",
    "    test_f1 = f1_score(y_test, test_pred, zero_division=0)\n",
    "    test_auc = roc_auc_score(y_test, test_pred_proba)\n",
    "    test_precision = precision_score(y_test, test_pred, zero_division=0)\n",
    "    test_recall = recall_score(y_test, test_pred, zero_division=0)\n",
    "    test_auprc = average_precision_score(y_test, test_pred_proba)\n",
    "    if show:\n",
    "        print(f\"Test - Acc: {test_acc}, F1: {test_f1}, AUC: {test_auc}, AUC-PR: {test_auprc}, Precision: {test_precision}, Recall: {test_recall}\")\n",
    "\n",
    "        # Confusion matrix\n",
    "        cm = confusion_matrix(y_test, test_pred)\n",
    "        ConfusionMatrixDisplay(confusion_matrix=cm).plot()\n",
    "        plt.title(\"Confusion Matrix on Test Set\")\n",
    "        plt.show()\n",
    "\n",
    "        # Calculate zeroR baseline metrics\n",
    "        zeroR = np.bincount(y_test).argmax()\n",
    "        y_pred_zeroR = np.full_like(y_test, zeroR)\n",
    "        zeroR_acc = accuracy_score(y_test, y_pred_zeroR)\n",
    "        zeroR_f1 = f1_score(y_test, y_pred_zeroR, zero_division=0)\n",
    "        zeroR_precision = precision_score(y_test, y_pred_zeroR, zero_division=0)\n",
    "        zeroR_recall = recall_score(y_test, y_pred_zeroR, zero_division=0)\n",
    "        zeroR_auc = roc_auc_score(y_test, y_pred_zeroR)\n",
    "        zeroR_auprc = average_precision_score(y_test, y_pred_zeroR)\n",
    "        \n",
    "        print(f\"ZeroR Baseline Metrics:\")\n",
    "        print(f\"  Accuracy: {zeroR_acc}\")\n",
    "        print(f\"  F1 Score: {zeroR_f1}\")\n",
    "        print(f\"  AUC: {zeroR_auc}\")\n",
    "        print(f\"  Precision: {zeroR_precision}\")\n",
    "        print(f\"  Recall: {zeroR_recall}\")\n",
    "        print(f\"  AUC-PR: {zeroR_auprc}\")\n",
    "    return [test_acc, test_f1, test_auc, test_precision, test_recall, test_auprc]"
   ]
  },
  {
   "cell_type": "code",
   "execution_count": 65,
   "id": "08a6a7e6",
   "metadata": {},
   "outputs": [
    {
     "name": "stdout",
     "output_type": "stream",
     "text": [
      "Test - Acc: 0.9937553408269243, F1: 0.8330404217926186, AUC: 0.9842274707230662, AUC-PR: 0.8990237523163386, Precision: 0.9685501066098081, Recall: 0.7307950127362918\n"
     ]
    },
    {
     "data": {
      "image/png": "[encoded data removed]",
      "text/plain": [
       "<Figure size 640x480 with 2 Axes>"
      ]
     },
     "metadata": {},
     "output_type": "display_data"
    },
    {
     "name": "stdout",
     "output_type": "stream",
     "text": [
      "ZeroR Baseline Metrics:\n",
      "  Accuracy: 0.9786824197839948\n",
      "  F1 Score: 0.0\n",
      "  AUC: 0.5\n",
      "  Precision: 0.0\n",
      "  Recall: 0.0\n",
      "  AUC-PR: 0.02131758021600519\n"
     ]
    },
    {
     "data": {
      "text/plain": [
       "[0.9937553408269243,\n",
       " 0.8330404217926186,\n",
       " 0.9842274707230662,\n",
       " 0.9685501066098081,\n",
       " 0.7307950127362918,\n",
       " 0.8990237523163386]"
      ]
     },
     "execution_count": 65,
     "metadata": {},
     "output_type": "execute_result"
    }
   ],
   "source": [
    "trainAndEvaluate(show=True)"
   ]
  },
  {
   "cell_type": "markdown",
   "id": "a4a28c7a",
   "metadata": {},
   "source": [
    "We can see that XGBoost achieves good results, let's try to improve it by:\n",
    "1) Balancing class weights\n",
    "2) Balancing the dataset by Oversampling & Undersampling.\n",
    "3) Hyperparameter Tuning."
   ]
  },
  {
   "cell_type": "markdown",
   "id": "50c75ef7",
   "metadata": {},
   "source": [
    "### 1) Balancing Class Weights"
   ]
  },
  {
   "cell_type": "code",
   "execution_count": 66,
   "id": "95d7effb",
   "metadata": {},
   "outputs": [
    {
     "name": "stdout",
     "output_type": "stream",
     "text": [
      "46.90803364949559 \n",
      "\n",
      "Scale      Accuracy   F1         AUC        Precision  Recall     AUC-PR    \n",
      "--------------------------------------------------------------------------------\n",
      "47         0.97       0.58       0.99       0.43       0.92       0.89      \n",
      "35         0.98       0.65       0.99       0.51       0.91       0.88      \n",
      "30         0.98       0.68       0.99       0.55       0.90       0.89      \n",
      "25         0.99       0.72       0.99       0.60       0.89       0.89      \n",
      "20         0.99       0.76       0.99       0.67       0.89       0.89      \n",
      "15         0.99       0.80       0.99       0.74       0.87       0.90      \n",
      "10         0.99       0.83       0.99       0.81       0.85       0.90      \n",
      "9          0.99       0.83       0.99       0.82       0.85       0.90      \n",
      "8          0.99       0.84       0.99       0.84       0.85       0.90      \n",
      "7          0.99       0.84       0.99       0.85       0.84       0.90      \n",
      "6          0.99       0.85       0.99       0.87       0.83       0.90      \n",
      "5          0.99       0.85       0.99       0.89       0.82       0.90      \n",
      "4          0.99       0.85       0.99       0.90       0.80       0.90      \n",
      "3          0.99       0.86       0.99       0.93       0.80       0.91      \n",
      "2          0.99       0.85       0.98       0.94       0.78       0.90      \n"
     ]
    }
   ],
   "source": [
    "print(len(y_train) / sum(y_train), '\\n')\n",
    "scales = [47, 35, 30, 25, 20, 15, 10, 9, 8, 7, 6, 5, 4, 3, 2]\n",
    "results = {}\n",
    "for scale in scales:\n",
    "    model = XGBClassifier(scale_pos_weight= scale)\n",
    "    metrics = trainAndEvaluate()\n",
    "    results[scale] = metrics\n",
    "    \n",
    "print(f\"{'Scale':<10} {'Accuracy':<10} {'F1':<10} {'AUC':<10} {'Precision':<10} {'Recall':<10} {'AUC-PR':<10}\")\n",
    "print(\"-\" * 80)\n",
    "for scale, metrics in results.items():\n",
    "    print(f\"{scale:<10} {metrics[0]:<10.2f} {metrics[1]:<10.2f} {metrics[2]:<10.2f} {metrics[3]:<10.2f} {metrics[4]:<10.2f} {metrics[5]:<10.2f}\")"
   ]
  },
  {
   "cell_type": "markdown",
   "id": "48e2b98c",
   "metadata": {},
   "source": [
    "We can see that scaling positive class weights by 3 have the best performance"
   ]
  },
  {
   "cell_type": "markdown",
   "id": "48e90861",
   "metadata": {},
   "source": [
    "### 2) Balancing Dataset"
   ]
  },
  {
   "cell_type": "markdown",
   "id": "82736940",
   "metadata": {},
   "source": [
    "- Using a balanced subset of data"
   ]
  },
  {
   "cell_type": "code",
   "execution_count": 67,
   "id": "fe507c1f",
   "metadata": {},
   "outputs": [
    {
     "name": "stdout",
     "output_type": "stream",
     "text": [
      "anomaly\n",
      "1    37296\n",
      "0    37296\n",
      "Name: count, dtype: int64\n"
     ]
    }
   ],
   "source": [
    "# Create a balanced sample from the dataset\n",
    "class_0 = df[df['anomaly'] == 0]\n",
    "class_1 = df[df['anomaly'] == 1]\n",
    "\n",
    "# Sample equal number from each class (based on minority class size)\n",
    "min_len = min(len(class_0), len(class_1))\n",
    "df_balanced = pd.concat([\n",
    "    class_0.sample(min_len, random_state=42),\n",
    "    class_1.sample(min_len, random_state=42)\n",
    "], ignore_index=True).sample(frac=1, random_state=42)  # Shuffle\n",
    "\n",
    "print(df_balanced['anomaly'].value_counts())"
   ]
  },
  {
   "cell_type": "code",
   "execution_count": 68,
   "id": "76c82842",
   "metadata": {},
   "outputs": [
    {
     "name": "stdout",
     "output_type": "stream",
     "text": [
      "33566 33566\n",
      "3730 3730\n",
      "(67132, 29) (67132,)\n",
      "(7460, 29) (7460,)\n"
     ]
    }
   ],
   "source": [
    "# Separate features and target\n",
    "y = df_balanced['anomaly'].values\n",
    "X = df_balanced.drop(columns=['anomaly']).values\n",
    "\n",
    "# Save meter_reading column separately\n",
    "meter_reading = df_balanced['meter_reading'].values\n",
    "\n",
    "# Scale the data\n",
    "scaler = StandardScaler()\n",
    "X = scaler.fit_transform(X)\n",
    "\n",
    "X_train, X_test, y_train, y_test, meter_train, meter_test = train_test_split(\n",
    "    X, y, meter_reading, test_size=0.1, random_state=42, stratify=y)\n",
    "\n",
    "print(len(y_train[y_train == 1]), len(y_train[y_train == 0]))\n",
    "print(len(y_test[y_test == 1]), len(y_test[y_test == 0]))\n",
    "\n",
    "print(X_train.shape, y_train.shape)\n",
    "print(X_test.shape, y_test.shape)"
   ]
  },
  {
   "cell_type": "code",
   "execution_count": 69,
   "id": "63893aa5",
   "metadata": {},
   "outputs": [
    {
     "name": "stdout",
     "output_type": "stream",
     "text": [
      "Test - Acc: 0.9442359249329759, F1: 0.9432314410480349, AUC: 0.9843060756564053, AUC-PR: 0.9867232518090975, Precision: 0.9605336297943302, Recall: 0.9265415549597855\n"
     ]
    },
    {
     "data": {
      "image/png": "[encoded data removed]",
      "text/plain": [
       "<Figure size 640x480 with 2 Axes>"
      ]
     },
     "metadata": {},
     "output_type": "display_data"
    },
    {
     "name": "stdout",
     "output_type": "stream",
     "text": [
      "ZeroR Baseline Metrics:\n",
      "  Accuracy: 0.5\n",
      "  F1 Score: 0.0\n",
      "  AUC: 0.5\n",
      "  Precision: 0.0\n",
      "  Recall: 0.0\n",
      "  AUC-PR: 0.5\n"
     ]
    },
    {
     "data": {
      "text/plain": [
       "[0.9442359249329759,\n",
       " 0.9432314410480349,\n",
       " 0.9843060756564053,\n",
       " 0.9605336297943302,\n",
       " 0.9265415549597855,\n",
       " 0.9867232518090975]"
      ]
     },
     "execution_count": 69,
     "metadata": {},
     "output_type": "execute_result"
    }
   ],
   "source": [
    "model = XGBClassifier()\n",
    "trainAndEvaluate(show=True)"
   ]
  },
  {
   "cell_type": "markdown",
   "id": "d5aaeb75",
   "metadata": {},
   "source": [
    "- Over-sampling"
   ]
  },
  {
   "cell_type": "code",
   "execution_count": 70,
   "id": "3582092d",
   "metadata": {},
   "outputs": [
    {
     "name": "stdout",
     "output_type": "stream",
     "text": [
      "1369758 1369758\n",
      "7459 342440\n",
      "(2739516, 29) (2739516,)\n",
      "(349899, 29) (349899,)\n"
     ]
    }
   ],
   "source": [
    "# Separate features and target\n",
    "y = df['anomaly'].values\n",
    "X = df.drop(columns=['anomaly']).values\n",
    "\n",
    "# Save meter_reading column separately\n",
    "meter_reading = df['meter_reading'].values\n",
    "\n",
    "# Scale the data\n",
    "scaler = StandardScaler()\n",
    "X = scaler.fit_transform(X)\n",
    "\n",
    "X_train, X_test, y_train, y_test, meter_train, meter_test = train_test_split(\n",
    "    X, y, meter_reading, test_size=0.2, random_state=42, stratify=y)\n",
    "\n",
    "smote = SMOTE(random_state=42)\n",
    "X_train, y_train = smote.fit_resample(X_train, y_train)\n",
    "\n",
    "print(len(y_train[y_train == 1]), len(y_train[y_train == 0]))\n",
    "print(len(y_test[y_test == 1]), len(y_test[y_test == 0]))\n",
    "\n",
    "print(X_train.shape, y_train.shape)\n",
    "print(X_test.shape, y_test.shape)"
   ]
  },
  {
   "cell_type": "code",
   "execution_count": 71,
   "id": "5c557f9a",
   "metadata": {},
   "outputs": [
    {
     "name": "stdout",
     "output_type": "stream",
     "text": [
      "Test - Acc: 0.9909059471447474, F1: 0.7637362637362637, AUC: 0.9673655127882912, AUC-PR: 0.8050173928549975, Precision: 0.8558828424030621, Recall: 0.68950261429146\n"
     ]
    },
    {
     "data": {
      "image/png": "[encoded data removed]",
      "text/plain": [
       "<Figure size 640x480 with 2 Axes>"
      ]
     },
     "metadata": {},
     "output_type": "display_data"
    },
    {
     "name": "stdout",
     "output_type": "stream",
     "text": [
      "ZeroR Baseline Metrics:\n",
      "  Accuracy: 0.9786824197839948\n",
      "  F1 Score: 0.0\n",
      "  AUC: 0.5\n",
      "  Precision: 0.0\n",
      "  Recall: 0.0\n",
      "  AUC-PR: 0.02131758021600519\n"
     ]
    },
    {
     "data": {
      "text/plain": [
       "[0.9909059471447474,\n",
       " 0.7637362637362637,\n",
       " 0.9673655127882912,\n",
       " 0.8558828424030621,\n",
       " 0.68950261429146,\n",
       " 0.8050173928549975]"
      ]
     },
     "execution_count": 71,
     "metadata": {},
     "output_type": "execute_result"
    }
   ],
   "source": [
    "model = XGBClassifier()\n",
    "trainAndEvaluate(show= True)"
   ]
  },
  {
   "cell_type": "markdown",
   "id": "45f6a300",
   "metadata": {},
   "source": [
    "We can see that balancing the dataset didn't help as\n",
    "- Taking a small subset of data didn't make the model generalize well\n",
    "- Generating synthetic data made the model overfit and generalize poorly to the imblanced test set"
   ]
  },
  {
   "cell_type": "markdown",
   "id": "608bb7a0",
   "metadata": {},
   "source": [
    "### 3) Hyperparameter Tuning"
   ]
  },
  {
   "cell_type": "code",
   "execution_count": 7,
   "id": "3048bb5d",
   "metadata": {
    "execution": {
     "iopub.execute_input": "2025-04-21T11:43:12.049655Z",
     "iopub.status.busy": "2025-04-21T11:43:12.049323Z",
     "iopub.status.idle": "2025-04-21T12:11:41.012668Z",
     "shell.execute_reply": "2025-04-21T12:11:41.011311Z",
     "shell.execute_reply.started": "2025-04-21T11:43:12.049626Z"
    },
    "trusted": true
   },
   "outputs": [
    {
     "name": "stdout",
     "output_type": "stream",
     "text": [
      "29837 1369758\n",
      "7459 342440\n",
      "(1399595, 29) (1399595,)\n",
      "(349899, 29) (349899,)\n",
      "Fitting 3 folds for each of 81 candidates, totalling 243 fits\n",
      "Best Parameters:  {'gamma': 0, 'learning_rate': 0.1, 'reg_alpha': 1, 'reg_lambda': 1}\n",
      "Test - Acc: 0.9916461607492448, F1: 0.7635304587007523, AUC: 0.9695048848904165, Precision: 0.9626682986536108, Recall: 0.6326585333154578, AUC-PR: 0.8332343164808536\n"
     ]
    }
   ],
   "source": [
    "# Separate features and target\n",
    "y = df['anomaly'].values\n",
    "X = df.drop(columns=['anomaly']).values\n",
    "\n",
    "# Save meter_reading column separately\n",
    "meter_reading = df['meter_reading'].values\n",
    "\n",
    "# Scale the data\n",
    "scaler = StandardScaler()\n",
    "X = scaler.fit_transform(X)\n",
    "\n",
    "X_train, X_test, y_train, y_test, meter_train, meter_test = train_test_split(\n",
    "    X, y, meter_reading, test_size=0.2, random_state=42, stratify=y)\n",
    "\n",
    "print(len(y_train[y_train == 1]), len(y_train[y_train == 0]))\n",
    "print(len(y_test[y_test == 1]), len(y_test[y_test == 0]))\n",
    "\n",
    "print(X_train.shape, y_train.shape)\n",
    "print(X_test.shape, y_test.shape)\n",
    "\n",
    "# Hyperparameter grid\n",
    "param_grid = {\n",
    "    'learning_rate': [0.001, 0.01, 0.1],\n",
    "    'gamma': [0, 0.1, 0.2],\n",
    "    'reg_alpha': [0, 0.1, 1],\n",
    "    'reg_lambda': [1, 1.5, 2]\n",
    "}\n",
    "\n",
    "# Use GridSearchCV to tune hyperparameters\n",
    "grid_search = GridSearchCV(XGBClassifier(scale_pos_weight=3), param_grid, scoring='f1', cv=3, verbose=1, n_jobs=-1)\n",
    "\n",
    "# Fit model using grid search\n",
    "grid_search.fit(X_train, y_train)\n",
    "\n",
    "# Get best parameters and best model\n",
    "best_params = grid_search.best_params_\n",
    "best_model = grid_search.best_estimator_\n",
    "\n",
    "# Print best parameters\n",
    "print(\"Best Parameters: \", best_params)\n",
    "\n",
    "# Make predictions on test set\n",
    "test_pred = best_model.predict(X_test)\n",
    "test_pred_proba = best_model.predict_proba(X_test)[:, 1]\n",
    "\n",
    "# Calculate evaluation metrics for test set\n",
    "test_acc = accuracy_score(y_test, test_pred)\n",
    "test_f1 = f1_score(y_test, test_pred)\n",
    "test_auc = roc_auc_score(y_test, test_pred_proba)\n",
    "test_precision = precision_score(y_test, test_pred)\n",
    "test_recall = recall_score(y_test, test_pred)\n",
    "test_auprc = average_precision_score(y_test, test_pred_proba)\n",
    "\n",
    "print(f\"Test - Acc: {test_acc}, F1: {test_f1}, AUC: {test_auc}, Precision: {test_precision}, Recall: {test_recall}, AUC-PR: {test_auprc}\")"
   ]
  },
  {
   "cell_type": "markdown",
   "id": "938f56e5",
   "metadata": {},
   "source": [
    "We can see that the default hyperparameters with positive class weight scaling gives best results"
   ]
  },
  {
   "cell_type": "code",
   "execution_count": 10,
   "id": "499499e5",
   "metadata": {},
   "outputs": [
    {
     "name": "stdout",
     "output_type": "stream",
     "text": [
      "Test - Acc: 0.9944155313390436, F1: 0.8596264367816092, AUC: 0.9876472148512245, AUC-PR: 0.9114671766985599, Precision: 0.9260176443275034, Recall: 0.8021182464137284\n"
     ]
    },
    {
     "data": {
      "image/png": "[encoded data removed]",
      "text/plain": [
       "<Figure size 640x480 with 2 Axes>"
      ]
     },
     "metadata": {},
     "output_type": "display_data"
    },
    {
     "name": "stdout",
     "output_type": "stream",
     "text": [
      "ZeroR Baseline Metrics:\n",
      "  Accuracy: 0.9786824197839948\n",
      "  F1 Score: 0.0\n",
      "  AUC: 0.5\n",
      "  Precision: 0.0\n",
      "  Recall: 0.0\n",
      "  AUC-PR: 0.02131758021600519\n"
     ]
    },
    {
     "data": {
      "text/plain": [
       "[0.9944155313390436,\n",
       " 0.8596264367816092,\n",
       " 0.9876472148512245,\n",
       " 0.9260176443275034,\n",
       " 0.8021182464137284,\n",
       " 0.9114671766985599]"
      ]
     },
     "execution_count": 10,
     "metadata": {},
     "output_type": "execute_result"
    }
   ],
   "source": [
    "model = XGBClassifier(scale_pos_weight=3)\n",
    "trainAndEvaluate(show=True)"
   ]
  },
  {
   "cell_type": "markdown",
   "id": "f97e000f",
   "metadata": {},
   "source": [
    "### So our best results are with XGBoost ensemble model with:\n",
    "- Accuracy = 99.44%\n",
    "- F1 Score = 86%\n",
    "- AUC-ROC = 98.76%\n",
    "- Precision = 92.6%\n",
    "- Recall = 80.2%\n",
    "- AUC-PR = 91.15%\n",
    "\n",
    "Which is better than our base zeroR model with:\n",
    "- Accuracy = 97.86%\n",
    "- AUC = 50%\n",
    "- AUC-PR = 2.13%"
   ]
  }
 ],
 "metadata": {
  "kaggle": {
   "accelerator": "none",
   "dataSources": [
    {
     "datasetId": 7201558,
     "sourceId": 11498039,
     "sourceType": "datasetVersion"
    }
   ],
   "dockerImageVersionId": 31012,
   "isGpuEnabled": false,
   "isInternetEnabled": true,
   "language": "python",
   "sourceType": "notebook"
  },
  "kernelspec": {
   "display_name": "Python 3",
   "language": "python",
   "name": "python3"
  },
  "language_info": {
   "codemirror_mode": {
    "name": "ipython",
    "version": 3
   },
   "file_extension": ".py",
   "mimetype": "text/x-python",
   "name": "python",
   "nbconvert_exporter": "python",
   "pygments_lexer": "ipython3",
   "version": "3.10.11"
  }
 },
 "nbformat": 4,
 "nbformat_minor": 5
}
