{
 "cells": [
  {
   "cell_type": "code",
   "execution_count": 12,
   "id": "873f8244",
   "metadata": {},
   "outputs": [],
   "source": [
    "import pandas as pd\n",
    "from sklearn.model_selection import train_test_split\n",
    "from sklearn.preprocessing import StandardScaler\n",
    "from sklearn.linear_model import SGDClassifier, LogisticRegression\n",
    "from sklearn.metrics import accuracy_score, log_loss, f1_score, roc_auc_score, confusion_matrix, ConfusionMatrixDisplay, precision_score, recall_score, average_precision_score, PrecisionRecallDisplay\n",
    "import matplotlib.pyplot as plt\n",
    "import numpy as np\n",
    "from tqdm import tqdm\n",
    "from imblearn.over_sampling import SMOTE\n",
    "from sklearn.utils import shuffle"
   ]
  },
  {
   "cell_type": "markdown",
   "id": "639eb024",
   "metadata": {},
   "source": [
    "### We will try to solve the problem using Logistic regression as a linear classifier by:\n",
    "- Using stochastic gradient descent in training\n",
    "- Training on epochs and using batches with partial fit\n"
   ]
  },
  {
   "cell_type": "markdown",
   "id": "f86c3807",
   "metadata": {},
   "source": [
    "#### Loading Pre-processed Dataset & Training/Eval function"
   ]
  },
  {
   "cell_type": "code",
   "execution_count": 13,
   "id": "4847b558",
   "metadata": {},
   "outputs": [],
   "source": [
    "# Load dataset from CSV\n",
    "csv_file = 'Dataset/cleaned.csv' \n",
    "df = pd.read_csv(csv_file)\n",
    "\n",
    "# Separate features and target\n",
    "y = df['anomaly'].values\n",
    "X = df.drop(columns=['anomaly']).values\n",
    "\n",
    "# Save meter_reading column separately\n",
    "meter_reading = df['meter_reading'].values\n",
    "\n",
    "# Scale the data\n",
    "scaler = StandardScaler()\n",
    "X = scaler.fit_transform(X)"
   ]
  },
  {
   "cell_type": "code",
   "execution_count": 14,
   "id": "72d3a3e3",
   "metadata": {},
   "outputs": [
    {
     "name": "stdout",
     "output_type": "stream",
     "text": [
      "30209 1386880\n",
      "3357 154098\n",
      "3730 171220\n",
      "(1417089, 29) (1417089,)\n",
      "(157455, 29) (157455,)\n",
      "(174950, 29) (174950,)\n"
     ]
    }
   ],
   "source": [
    "# Train/Val/Test split with stratification\n",
    "X_train_val, X_test, y_train_val, y_test, meter_train_val, meter_test = train_test_split(\n",
    "    X, y, meter_reading, test_size=0.1, random_state=42, stratify=y)\n",
    "X_train, X_val, y_train, y_val, meter_train, meter_val = train_test_split(\n",
    "    X_train_val, y_train_val, meter_train_val, test_size=0.1, random_state=42, stratify=y_train_val)\n",
    "\n",
    "print(len(y_train[y_train == 1]), len(y_train[y_train == 0]))\n",
    "print(len(y_val[y_val == 1]), len(y_val[y_val == 0]))\n",
    "print(len(y_test[y_test == 1]), len(y_test[y_test == 0]))\n",
    "\n",
    "\n",
    "print(X_train.shape, y_train.shape)\n",
    "print(X_val.shape, y_val.shape)\n",
    "print(X_test.shape, y_test.shape)"
   ]
  },
  {
   "cell_type": "code",
   "execution_count": 15,
   "id": "75ea2bdd",
   "metadata": {},
   "outputs": [],
   "source": [
    "def trainAndEvaluate(model, X_train, X_val, X_test, y_train, y_val, y_test, meter_val, meter_test, epochs= 5, batch_size=1024, show=False):\n",
    "    train_losses, val_losses = [], []\n",
    "\n",
    "    for epoch in tqdm(range(epochs), desc=\"Training\"):\n",
    "        X_train, y_train = shuffle(X_train, y_train, random_state=epoch)\n",
    "        for i in range(0, len(X_train), batch_size):\n",
    "            X_batch = X_train[i:i+batch_size]\n",
    "            y_batch = y_train[i:i+batch_size]\n",
    "            model.partial_fit(X_batch, y_batch, classes=[0, 1])\n",
    "\n",
    "        train_pred_proba = model.predict_proba(X_train)\n",
    "        val_pred_proba = model.predict_proba(X_val)\n",
    "\n",
    "        train_loss = log_loss(y_train, train_pred_proba)\n",
    "        val_loss = log_loss(y_val, val_pred_proba)\n",
    "        train_losses.append(train_loss)\n",
    "        val_losses.append(val_loss)\n",
    "\n",
    "        val_pred = model.predict(X_val)\n",
    "        val_pred = np.where(meter_val == -1, 0, val_pred)\n",
    "        \n",
    "        if show:\n",
    "            val_acc = accuracy_score(y_val, val_pred)\n",
    "            val_f1 = f1_score(y_val, val_pred, zero_division=0)\n",
    "            val_auc = roc_auc_score(y_val, val_pred_proba[:, 1])\n",
    "            val_precision = precision_score(y_val, val_pred, zero_division=0)\n",
    "            val_recall = recall_score(y_val, val_pred, zero_division=0)\n",
    "            val_auprc = average_precision_score(y_val, val_pred_proba[:, 1])\n",
    "            print(f\"Epoch {epoch+1}/{epochs} - Train Loss: {train_loss:.4f}, Val Loss: {val_loss:.4f}, Val Acc: {val_acc:.4f}, F1: {val_f1:.4f}, AUC: {val_auc:.4f}, AUC-PR: {val_auprc:.4f}, Precision: {val_precision:.4f}, Recall: {val_recall:.4f}\")\n",
    "\n",
    "    # Evaluate on test set\n",
    "    test_pred = model.predict(X_test)\n",
    "    test_pred_proba = model.predict_proba(X_test)[:, 1]\n",
    "\n",
    "    # Set prediction to 0 where meter_reading is missing\n",
    "    test_pred = np.where(meter_test == -1, 0, test_pred)\n",
    "\n",
    "    test_acc = accuracy_score(y_test, test_pred)\n",
    "    test_f1 = f1_score(y_test, test_pred)\n",
    "    test_auc = roc_auc_score(y_test, test_pred_proba)\n",
    "    test_precision = precision_score(y_test, test_pred, zero_division=0)\n",
    "    test_recall = recall_score(y_test, test_pred, zero_division=0)\n",
    "    test_auprc = average_precision_score(y_test, test_pred_proba)\n",
    "    \n",
    "    if show:\n",
    "        print(f\"Test Accuracy: {test_acc:.4f}, F1 Score: {test_f1:.4f}, AUC Score: {test_auc:.4f}, AUC-PR: {test_auprc:.4f}, Precision: {test_precision:.4f}, Recall: {test_recall:.4f}\")\n",
    "\n",
    "        # Confusion matrix\n",
    "        cm = confusion_matrix(y_test, test_pred)\n",
    "        ConfusionMatrixDisplay(confusion_matrix=cm).plot()\n",
    "        plt.title(\"Confusion Matrix on Test Set\")\n",
    "        plt.show()\n",
    "\n",
    "        # Calculate zeroR baseline metrics\n",
    "        zeroR = np.bincount(y_test).argmax()\n",
    "        y_pred_zeroR = np.full_like(y_test, zeroR)\n",
    "        zeroR_acc = accuracy_score(y_test, y_pred_zeroR)\n",
    "        zeroR_f1 = f1_score(y_test, y_pred_zeroR, zero_division=0)\n",
    "        zeroR_precision = precision_score(y_test, y_pred_zeroR, zero_division=0)\n",
    "        zeroR_recall = recall_score(y_test, y_pred_zeroR, zero_division=0)\n",
    "        zeroR_auc = roc_auc_score(y_test, y_pred_zeroR)\n",
    "        zeroR_auprc = average_precision_score(y_test, y_pred_zeroR)\n",
    "        print(f\"ZeroR Baseline Metrics:\", f\"  Accuracy: {zeroR_acc:.4f}\", f\"  F1 Score: {zeroR_f1:.4f}\", f\"  Precision: {zeroR_precision:.4f}\", f\"  Recall: {zeroR_recall:.4f}\", f\"  AUC: {zeroR_auc:.4f}\", f\"  AUC-PR: {zeroR_auprc:.4f}\", \"\\n\")\n",
    "    return [test_acc, test_f1, test_auc, test_precision, test_recall, test_auprc]"
   ]
  },
  {
   "cell_type": "code",
   "execution_count": 16,
   "id": "08a6a7e6",
   "metadata": {},
   "outputs": [
    {
     "name": "stderr",
     "output_type": "stream",
     "text": [
      "Training:  20%|██        | 1/5 [00:01<00:07,  1.84s/it]"
     ]
    },
    {
     "name": "stdout",
     "output_type": "stream",
     "text": [
      "Epoch 1/5 - Train Loss: 0.1021, Val Loss: 0.1017, Val Acc: 0.9787, F1: 0.0000, AUC: 0.6159, AUC-PR: 0.0377, Precision: 0.0000, Recall: 0.0000\n"
     ]
    },
    {
     "name": "stderr",
     "output_type": "stream",
     "text": [
      "Training:  40%|████      | 2/5 [00:03<00:05,  1.96s/it]"
     ]
    },
    {
     "name": "stdout",
     "output_type": "stream",
     "text": [
      "Epoch 2/5 - Train Loss: 0.1015, Val Loss: 0.1016, Val Acc: 0.9787, F1: 0.0000, AUC: 0.6292, AUC-PR: 0.0374, Precision: 0.0000, Recall: 0.0000\n"
     ]
    },
    {
     "name": "stderr",
     "output_type": "stream",
     "text": [
      "Training:  60%|██████    | 3/5 [00:05<00:03,  1.86s/it]"
     ]
    },
    {
     "name": "stdout",
     "output_type": "stream",
     "text": [
      "Epoch 3/5 - Train Loss: 0.1015, Val Loss: 0.1014, Val Acc: 0.9787, F1: 0.0000, AUC: 0.6217, AUC-PR: 0.0386, Precision: 0.0000, Recall: 0.0000\n"
     ]
    },
    {
     "name": "stderr",
     "output_type": "stream",
     "text": [
      "Training:  80%|████████  | 4/5 [00:07<00:01,  1.86s/it]"
     ]
    },
    {
     "name": "stdout",
     "output_type": "stream",
     "text": [
      "Epoch 4/5 - Train Loss: 0.1013, Val Loss: 0.1011, Val Acc: 0.9787, F1: 0.0000, AUC: 0.6351, AUC-PR: 0.0423, Precision: 0.0000, Recall: 0.0000\n"
     ]
    },
    {
     "name": "stderr",
     "output_type": "stream",
     "text": [
      "Training: 100%|██████████| 5/5 [00:09<00:00,  1.86s/it]"
     ]
    },
    {
     "name": "stdout",
     "output_type": "stream",
     "text": [
      "Epoch 5/5 - Train Loss: 0.1012, Val Loss: 0.1010, Val Acc: 0.9787, F1: 0.0000, AUC: 0.6369, AUC-PR: 0.0395, Precision: 0.0000, Recall: 0.0000\n"
     ]
    },
    {
     "name": "stderr",
     "output_type": "stream",
     "text": [
      "\n"
     ]
    },
    {
     "name": "stdout",
     "output_type": "stream",
     "text": [
      "Test Accuracy: 0.9787, F1 Score: 0.0000, AUC Score: 0.6231, AUC-PR: 0.0364, Precision: 0.0000, Recall: 0.0000\n"
     ]
    },
    {
     "data": {
      "image/png": "[encoded data removed]",
      "text/plain": [
       "<Figure size 640x480 with 2 Axes>"
      ]
     },
     "metadata": {},
     "output_type": "display_data"
    },
    {
     "name": "stdout",
     "output_type": "stream",
     "text": [
      "ZeroR Baseline Metrics:   Accuracy: 0.9787   F1 Score: 0.0000   Precision: 0.0000   Recall: 0.0000   AUC: 0.5000   AUC-PR: 0.0213 \n",
      "\n"
     ]
    },
    {
     "data": {
      "text/plain": [
       "[0.9786796227493569, 0.0, 0.6231165366477383, 0.0, 0.0, 0.03639414503237963]"
      ]
     },
     "execution_count": 16,
     "metadata": {},
     "output_type": "execute_result"
    }
   ],
   "source": [
    "model = SGDClassifier(loss='log_loss', max_iter=1000, learning_rate='optimal', warm_start=True)\n",
    "trainAndEvaluate(model, X_train, X_val, X_test, y_train, y_val, y_test, meter_val, meter_test, epochs=5, batch_size=1024, show=True)"
   ]
  },
  {
   "cell_type": "markdown",
   "id": "a4a28c7a",
   "metadata": {},
   "source": [
    "### We have the problem of the heavily imbalanced dataset which we will try to solve by:\n",
    "1) Using a subset of the dataset with an equal distribution for both target classes\n",
    "2) Over-sampling the dataset by generating samples from the minor class"
   ]
  },
  {
   "cell_type": "code",
   "execution_count": 17,
   "id": "fe507c1f",
   "metadata": {},
   "outputs": [
    {
     "name": "stdout",
     "output_type": "stream",
     "text": [
      "anomaly\n",
      "1    37296\n",
      "0    37296\n",
      "Name: count, dtype: int64\n"
     ]
    }
   ],
   "source": [
    "# Create a balanced sample from the dataset\n",
    "class_0 = df[df['anomaly'] == 0]\n",
    "class_1 = df[df['anomaly'] == 1]\n",
    "\n",
    "# Sample equal number from each class (based on minority class size)\n",
    "min_len = min(len(class_0), len(class_1))\n",
    "df_balanced = pd.concat([\n",
    "    class_0.sample(min_len, random_state=42),\n",
    "    class_1.sample(min_len, random_state=42)\n",
    "], ignore_index=True).sample(frac=1, random_state=42)  # Shuffle\n",
    "\n",
    "print(df_balanced['anomaly'].value_counts())"
   ]
  },
  {
   "cell_type": "code",
   "execution_count": 18,
   "id": "76c82842",
   "metadata": {},
   "outputs": [
    {
     "name": "stdout",
     "output_type": "stream",
     "text": [
      "30209 30209\n",
      "3357 3357\n",
      "3730 3730\n",
      "(60418, 29) (60418,)\n",
      "(6714, 29) (6714,)\n",
      "(7460, 29) (7460,)\n"
     ]
    }
   ],
   "source": [
    "# Separate features and target\n",
    "y = df_balanced['anomaly'].values\n",
    "X = df_balanced.drop(columns=['anomaly']).values\n",
    "\n",
    "# Save meter_reading column separately\n",
    "meter_reading = df_balanced['meter_reading'].values\n",
    "\n",
    "# Scale the data\n",
    "scaler = StandardScaler()\n",
    "X = scaler.fit_transform(X)\n",
    "\n",
    "# Train/Val/Test split with stratification\n",
    "X_train_val, X_test, y_train_val, y_test, meter_train_val, meter_test = train_test_split(\n",
    "    X, y, meter_reading, test_size=0.1, random_state=42, stratify=y)\n",
    "X_train, X_val, y_train, y_val, meter_train, meter_val = train_test_split(\n",
    "    X_train_val, y_train_val, meter_train_val, test_size=0.1, random_state=42, stratify=y_train_val)\n",
    "\n",
    "print(len(y_train[y_train == 1]), len(y_train[y_train == 0]))\n",
    "print(len(y_val[y_val == 1]), len(y_val[y_val == 0]))\n",
    "print(len(y_test[y_test == 1]), len(y_test[y_test == 0]))\n",
    "\n",
    "print(X_train.shape, y_train.shape)\n",
    "print(X_val.shape, y_val.shape)\n",
    "print(X_test.shape, y_test.shape)"
   ]
  },
  {
   "cell_type": "code",
   "execution_count": 19,
   "id": "b787bf03",
   "metadata": {},
   "outputs": [
    {
     "name": "stdout",
     "output_type": "stream",
     "text": [
      "Model with lr= 0.01 and num_epochs= 5\n",
      "\n"
     ]
    },
    {
     "name": "stderr",
     "output_type": "stream",
     "text": [
      "Training: 100%|██████████| 5/5 [00:00<00:00, 15.53it/s]\n"
     ]
    },
    {
     "name": "stdout",
     "output_type": "stream",
     "text": [
      "Model with lr= 0.001 and num_epochs= 5\n",
      "\n"
     ]
    },
    {
     "name": "stderr",
     "output_type": "stream",
     "text": [
      "Training: 100%|██████████| 5/5 [00:00<00:00, 13.95it/s]\n"
     ]
    },
    {
     "name": "stdout",
     "output_type": "stream",
     "text": [
      "Model with lr= 0.0001 and num_epochs= 5\n",
      "\n"
     ]
    },
    {
     "name": "stderr",
     "output_type": "stream",
     "text": [
      "Training: 100%|██████████| 5/5 [00:00<00:00, 16.05it/s]\n"
     ]
    },
    {
     "name": "stdout",
     "output_type": "stream",
     "text": [
      "Model with lr= 0.01 and num_epochs= 30\n",
      "\n"
     ]
    },
    {
     "name": "stderr",
     "output_type": "stream",
     "text": [
      "Training: 100%|██████████| 30/30 [00:02<00:00, 14.02it/s]\n"
     ]
    },
    {
     "name": "stdout",
     "output_type": "stream",
     "text": [
      "Model with lr= 0.001 and num_epochs= 30\n",
      "\n"
     ]
    },
    {
     "name": "stderr",
     "output_type": "stream",
     "text": [
      "Training: 100%|██████████| 30/30 [00:02<00:00, 14.03it/s]\n"
     ]
    },
    {
     "name": "stdout",
     "output_type": "stream",
     "text": [
      "Model with lr= 0.0001 and num_epochs= 30\n",
      "\n"
     ]
    },
    {
     "name": "stderr",
     "output_type": "stream",
     "text": [
      "Training: 100%|██████████| 30/30 [00:02<00:00, 14.38it/s]\n"
     ]
    },
    {
     "name": "stdout",
     "output_type": "stream",
     "text": [
      "Model with lr= 0.01 and num_epochs= 100\n",
      "\n"
     ]
    },
    {
     "name": "stderr",
     "output_type": "stream",
     "text": [
      "Training: 100%|██████████| 100/100 [00:06<00:00, 15.33it/s]\n"
     ]
    },
    {
     "name": "stdout",
     "output_type": "stream",
     "text": [
      "Model with lr= 0.001 and num_epochs= 100\n",
      "\n"
     ]
    },
    {
     "name": "stderr",
     "output_type": "stream",
     "text": [
      "Training: 100%|██████████| 100/100 [00:06<00:00, 16.11it/s]\n"
     ]
    },
    {
     "name": "stdout",
     "output_type": "stream",
     "text": [
      "Model with lr= 0.0001 and num_epochs= 100\n",
      "\n"
     ]
    },
    {
     "name": "stderr",
     "output_type": "stream",
     "text": [
      "Training: 100%|██████████| 100/100 [00:06<00:00, 16.30it/s]\n"
     ]
    }
   ],
   "source": [
    "results = {}\n",
    "lrs = [0.01, 0.001, 0.0001]\n",
    "epochs_list = [5, 30, 100]\n",
    "for epochs in epochs_list:\n",
    "    for lr in lrs:\n",
    "        print(f\"Model with lr= {lr} and num_epochs= {epochs}\\n\")\n",
    "        model = SGDClassifier(loss='log_loss', max_iter=1000, learning_rate='adaptive', eta0=lr, warm_start=True)\n",
    "        metrics = trainAndEvaluate(model, X_train, X_val, X_test, y_train, y_val, y_test, meter_val, meter_test, epochs=epochs, batch_size=1024)\n",
    "        results[(lr, epochs)] = metrics"
   ]
  },
  {
   "cell_type": "code",
   "execution_count": 20,
   "id": "9a6d2e4c",
   "metadata": {},
   "outputs": [
    {
     "name": "stdout",
     "output_type": "stream",
     "text": [
      "LR         Epoch      Accuracy   F1         AUC        Precision  Recall     AUC-PR    \n",
      "------------------------------------------------------------\n",
      "0.01       5          0.59       0.60       0.60       0.59       0.60       0.58      \n",
      "0.001      5          0.60       0.60       0.62       0.60       0.60       0.59      \n",
      "0.0001     5          0.60       0.60       0.62       0.60       0.59       0.61      \n",
      "0.01       30         0.59       0.58       0.60       0.60       0.57       0.58      \n",
      "0.001      30         0.60       0.60       0.62       0.61       0.59       0.60      \n",
      "0.0001     30         0.60       0.59       0.63       0.60       0.59       0.61      \n",
      "0.01       100        0.58       0.57       0.59       0.59       0.56       0.59      \n",
      "0.001      100        0.60       0.59       0.62       0.61       0.57       0.60      \n",
      "0.0001     100        0.60       0.59       0.62       0.60       0.58       0.61      \n"
     ]
    }
   ],
   "source": [
    "print(f\"{'LR':<10} {'Epoch':<10} {'Accuracy':<10} {'F1':<10} {'AUC':<10} {'Precision':<10} {'Recall':<10} {'AUC-PR':<10}\")\n",
    "print(\"-\" * 60)\n",
    "for (lr, epoch), metrics in results.items():\n",
    "    print(f\"{lr:<10} {epoch:<10} {metrics[0]:<10.2f} {metrics[1]:<10.2f} {metrics[2]:<10.2f} {metrics[3]:<10.2f} {metrics[4]:<10.2f} {metrics[5]:<10.2f}\")"
   ]
  },
  {
   "cell_type": "code",
   "execution_count": 21,
   "id": "3582092d",
   "metadata": {},
   "outputs": [
    {
     "name": "stdout",
     "output_type": "stream",
     "text": [
      "1386880 1386880\n",
      "3357 154098\n",
      "3730 171220\n",
      "(2773760, 29) (2773760,)\n",
      "(157455, 29) (157455,)\n",
      "(174950, 29) (174950,)\n"
     ]
    }
   ],
   "source": [
    "# Separate features and target\n",
    "y = df['anomaly'].values\n",
    "X = df.drop(columns=['anomaly']).values\n",
    "\n",
    "# Save meter_reading column separately\n",
    "meter_reading = df['meter_reading'].values\n",
    "\n",
    "# Scale the data\n",
    "scaler = StandardScaler()\n",
    "X = scaler.fit_transform(X)\n",
    "\n",
    "X_train_val, X_test, y_train_val, y_test, meter_train_val, meter_test = train_test_split(\n",
    "    X, y, meter_reading, test_size=0.1, random_state=42, stratify=y)\n",
    "X_train, X_val, y_train, y_val, meter_train, meter_val = train_test_split(\n",
    "    X_train_val, y_train_val, meter_train_val, test_size=0.1, random_state=42, stratify=y_train_val)\n",
    "\n",
    "smote = SMOTE(random_state=42)\n",
    "X_train, y_train = smote.fit_resample(X_train, y_train)\n",
    "\n",
    "print(len(y_train[y_train == 1]), len(y_train[y_train == 0]))\n",
    "print(len(y_val[y_val == 1]), len(y_val[y_val == 0]))\n",
    "print(len(y_test[y_test == 1]), len(y_test[y_test == 0]))\n",
    "\n",
    "print(X_train.shape, y_train.shape)\n",
    "print(X_val.shape, y_val.shape)\n",
    "print(X_test.shape, y_test.shape)"
   ]
  },
  {
   "cell_type": "code",
   "execution_count": 22,
   "id": "07ee3e3b",
   "metadata": {},
   "outputs": [
    {
     "name": "stdout",
     "output_type": "stream",
     "text": [
      "Model with lr= 0.01 and num_epochs= 5\n",
      "\n"
     ]
    },
    {
     "name": "stderr",
     "output_type": "stream",
     "text": [
      "Training: 100%|██████████| 5/5 [00:15<00:00,  3.19s/it]\n"
     ]
    },
    {
     "name": "stdout",
     "output_type": "stream",
     "text": [
      "Model with lr= 0.001 and num_epochs= 5\n",
      "\n"
     ]
    },
    {
     "name": "stderr",
     "output_type": "stream",
     "text": [
      "Training: 100%|██████████| 5/5 [00:15<00:00,  3.11s/it]\n"
     ]
    },
    {
     "name": "stdout",
     "output_type": "stream",
     "text": [
      "Model with lr= 0.0001 and num_epochs= 5\n",
      "\n"
     ]
    },
    {
     "name": "stderr",
     "output_type": "stream",
     "text": [
      "Training: 100%|██████████| 5/5 [00:15<00:00,  3.14s/it]\n"
     ]
    },
    {
     "name": "stdout",
     "output_type": "stream",
     "text": [
      "Model with lr= 0.01 and num_epochs= 30\n",
      "\n"
     ]
    },
    {
     "name": "stderr",
     "output_type": "stream",
     "text": [
      "Training: 100%|██████████| 30/30 [01:32<00:00,  3.07s/it]\n"
     ]
    },
    {
     "name": "stdout",
     "output_type": "stream",
     "text": [
      "Model with lr= 0.001 and num_epochs= 30\n",
      "\n"
     ]
    },
    {
     "name": "stderr",
     "output_type": "stream",
     "text": [
      "Training: 100%|██████████| 30/30 [01:36<00:00,  3.20s/it]\n"
     ]
    },
    {
     "name": "stdout",
     "output_type": "stream",
     "text": [
      "Model with lr= 0.0001 and num_epochs= 30\n",
      "\n"
     ]
    },
    {
     "name": "stderr",
     "output_type": "stream",
     "text": [
      "Training: 100%|██████████| 30/30 [01:35<00:00,  3.20s/it]\n"
     ]
    },
    {
     "name": "stdout",
     "output_type": "stream",
     "text": [
      "Model with lr= 0.01 and num_epochs= 100\n",
      "\n"
     ]
    },
    {
     "name": "stderr",
     "output_type": "stream",
     "text": [
      "Training: 100%|██████████| 100/100 [05:40<00:00,  3.40s/it]\n"
     ]
    },
    {
     "name": "stdout",
     "output_type": "stream",
     "text": [
      "Model with lr= 0.001 and num_epochs= 100\n",
      "\n"
     ]
    },
    {
     "name": "stderr",
     "output_type": "stream",
     "text": [
      "Training: 100%|██████████| 100/100 [05:36<00:00,  3.36s/it]\n"
     ]
    },
    {
     "name": "stdout",
     "output_type": "stream",
     "text": [
      "Model with lr= 0.0001 and num_epochs= 100\n",
      "\n"
     ]
    },
    {
     "name": "stderr",
     "output_type": "stream",
     "text": [
      "Training: 100%|██████████| 100/100 [05:13<00:00,  3.13s/it]\n"
     ]
    }
   ],
   "source": [
    "results = {}\n",
    "lrs = [0.01, 0.001, 0.0001]\n",
    "epochs_list = [5, 30, 100]\n",
    "for epochs in epochs_list:\n",
    "    for lr in lrs:\n",
    "        print(f\"Model with lr= {lr} and num_epochs= {epochs}\\n\")\n",
    "        model = SGDClassifier(loss='log_loss', max_iter=1000, learning_rate='adaptive', eta0=lr, warm_start=True)\n",
    "        metrics = trainAndEvaluate(model, X_train, X_val, X_test, y_train, y_val, y_test, meter_val, meter_test, epochs=epochs, batch_size=1024)\n",
    "        results[(lr, epochs)] = metrics"
   ]
  },
  {
   "cell_type": "code",
   "execution_count": 23,
   "id": "dff4a617",
   "metadata": {},
   "outputs": [
    {
     "name": "stdout",
     "output_type": "stream",
     "text": [
      "LR         Epoch      Accuracy   F1         AUC        Precision  Recall     AUC-PR    \n",
      "------------------------------------------------------------\n",
      "0.01       5          0.63       0.06       0.60       0.03       0.54       0.03      \n",
      "0.001      5          0.62       0.06       0.62       0.03       0.58       0.03      \n",
      "0.0001     5          0.62       0.06       0.62       0.03       0.58       0.03      \n",
      "0.01       30         0.62       0.06       0.59       0.03       0.54       0.03      \n",
      "0.001      30         0.65       0.06       0.62       0.03       0.55       0.03      \n",
      "0.0001     30         0.62       0.06       0.62       0.03       0.57       0.03      \n",
      "0.01       100        0.67       0.06       0.59       0.03       0.48       0.03      \n",
      "0.001      100        0.64       0.06       0.61       0.03       0.55       0.03      \n",
      "0.0001     100        0.62       0.06       0.62       0.03       0.58       0.03      \n"
     ]
    }
   ],
   "source": [
    "print(f\"{'LR':<10} {'Epoch':<10} {'Accuracy':<10} {'F1':<10} {'AUC':<10} {'Precision':<10} {'Recall':<10} {'AUC-PR':<10}\")\n",
    "print(\"-\" * 60)\n",
    "for (lr, epoch), metrics in results.items():\n",
    "    print(f\"{lr:<10} {epoch:<10} {metrics[0]:<10.2f} {metrics[1]:<10.2f} {metrics[2]:<10.2f} {metrics[3]:<10.2f} {metrics[4]:<10.2f} {metrics[5]:<10.2f}\")"
   ]
  },
  {
   "cell_type": "markdown",
   "id": "608bb7a0",
   "metadata": {},
   "source": [
    "### We can see that Logistic Regression performs badly even after these improvements.  \n",
    "### This means our dataset can't be linearly seperated and non-linear models should be used."
   ]
  }
 ],
 "metadata": {
  "kernelspec": {
   "display_name": "Python 3",
   "language": "python",
   "name": "python3"
  },
  "language_info": {
   "codemirror_mode": {
    "name": "ipython",
    "version": 3
   },
   "file_extension": ".py",
   "mimetype": "text/x-python",
   "name": "python",
   "nbconvert_exporter": "python",
   "pygments_lexer": "ipython3",
   "version": "3.10.11"
  }
 },
 "nbformat": 4,
 "nbformat_minor": 5
}
