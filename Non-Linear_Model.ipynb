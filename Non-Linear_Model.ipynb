{
 "cells": [
  {
   "cell_type": "code",
   "execution_count": 1,
   "id": "873f8244",
   "metadata": {},
   "outputs": [],
   "source": [
    "import pandas as pd\n",
    "from sklearn.model_selection import train_test_split\n",
    "from sklearn.preprocessing import StandardScaler\n",
    "from sklearn.svm import SVC\n",
    "from sklearn.metrics import accuracy_score, log_loss, f1_score, roc_auc_score, confusion_matrix, ConfusionMatrixDisplay, precision_score, recall_score, average_precision_score, PrecisionRecallDisplay\n",
    "import matplotlib.pyplot as plt\n",
    "import numpy as np\n",
    "from imblearn.over_sampling import SMOTE\n",
    "from tqdm import tqdm"
   ]
  },
  {
   "cell_type": "markdown",
   "id": "639eb024",
   "metadata": {},
   "source": [
    "### Now we will try to solve the problem using Non-Linear models such as non-linear SVM"
   ]
  },
  {
   "cell_type": "markdown",
   "id": "f86c3807",
   "metadata": {},
   "source": [
    "#### Loading Pre-processed Dataset & Training/Eval function"
   ]
  },
  {
   "cell_type": "code",
   "execution_count": 15,
   "id": "4847b558",
   "metadata": {},
   "outputs": [],
   "source": [
    "# Load dataset from CSV\n",
    "csv_file = 'Dataset/cleaned.csv'\n",
    "df = pd.read_csv(csv_file)\n",
    "\n",
    "# Separate features and target\n",
    "y = df['anomaly'].values\n",
    "X = df.drop(columns=['anomaly']).values\n",
    "\n",
    "# Save meter_reading column separately\n",
    "meter_reading = df['meter_reading'].values\n",
    "\n",
    "# Scale the data\n",
    "scaler = StandardScaler()\n",
    "X = scaler.fit_transform(X)"
   ]
  },
  {
   "cell_type": "code",
   "execution_count": 16,
   "id": "72d3a3e3",
   "metadata": {},
   "outputs": [
    {
     "name": "stdout",
     "output_type": "stream",
     "text": [
      "1865 85609\n",
      "373 17122\n",
      "(87474, 29) (87474,)\n",
      "(17495, 29) (17495,)\n"
     ]
    }
   ],
   "source": [
    "# Train/Test split with stratification\n",
    "X_train, X_test, y_train, y_test, meter_train, meter_test = train_test_split(\n",
    "    X, y, meter_reading, train_size=0.05, test_size=0.01, random_state=42, stratify=y)\n",
    "\n",
    "print(len(y_train[y_train == 1]), len(y_train[y_train == 0]))\n",
    "print(len(y_test[y_test == 1]), len(y_test[y_test == 0]))\n",
    "\n",
    "print(X_train.shape, y_train.shape)\n",
    "print(X_test.shape, y_test.shape)"
   ]
  },
  {
   "cell_type": "code",
   "execution_count": 14,
   "id": "bcd9f5b6",
   "metadata": {},
   "outputs": [],
   "source": [
    "model = SVC(kernel='rbf', probability=True, verbose= True, class_weight='balanced')"
   ]
  },
  {
   "cell_type": "code",
   "execution_count": 17,
   "id": "75ea2bdd",
   "metadata": {},
   "outputs": [],
   "source": [
    "def trainAndEvaluate(show= False):\n",
    "\n",
    "    model.fit(X_train, y_train)\n",
    "    \n",
    "    # Evaluate on test set\n",
    "    test_pred = model.predict(X_test)\n",
    "    test_pred_proba = model.predict_proba(X_test)[:, 1]\n",
    "\n",
    "    # Set prediction to 0 where meter_reading is missing\n",
    "    test_pred = np.where(meter_test == -1, 0, test_pred)\n",
    "\n",
    "    # Metrics on test set\n",
    "    test_acc = accuracy_score(y_test, test_pred)\n",
    "    test_f1 = f1_score(y_test, test_pred, zero_division=0)\n",
    "    test_auc = roc_auc_score(y_test, test_pred_proba)\n",
    "    test_precision = precision_score(y_test, test_pred, zero_division=0)\n",
    "    test_recall = recall_score(y_test, test_pred, zero_division=0)\n",
    "    test_auprc = average_precision_score(y_test, test_pred_proba)\n",
    "    \n",
    "    if show:\n",
    "        print(f\"Test - Acc: {test_acc}, F1: {test_f1}, AUC: {test_auc}, AUC-PR: {test_auprc}, Precision: {test_precision}, Recall: {test_recall}\")\n",
    "\n",
    "        # Confusion matrix\n",
    "        cm = confusion_matrix(y_test, test_pred)\n",
    "        ConfusionMatrixDisplay(confusion_matrix=cm).plot()\n",
    "        plt.title(\"Confusion Matrix on Test Set\")\n",
    "        plt.show()\n",
    "\n",
    "        # Calculate zeroR baseline metrics\n",
    "        zeroR = np.bincount(y_test).argmax()\n",
    "        y_pred_zeroR = np.full_like(y_test, zeroR)\n",
    "        zeroR_acc = accuracy_score(y_test, y_pred_zeroR)\n",
    "        zeroR_f1 = f1_score(y_test, y_pred_zeroR, zero_division=0)\n",
    "        zeroR_precision = precision_score(y_test, y_pred_zeroR, zero_division=0)\n",
    "        zeroR_recall = recall_score(y_test, y_pred_zeroR, zero_division=0)\n",
    "        zeroR_auc = roc_auc_score(y_test, y_pred_zeroR)\n",
    "        zeroR_auprc = average_precision_score(y_test, y_pred_zeroR)\n",
    "\n",
    "        print(f\"ZeroR Baseline Metrics:\")\n",
    "        print(f\"  Accuracy: {zeroR_acc}\")\n",
    "        print(f\"  F1 Score: {zeroR_f1}\")\n",
    "        print(f\"  Precision: {zeroR_precision}\")\n",
    "        print(f\"  Recall: {zeroR_recall}\")\n",
    "        print(f\"  AUC: {zeroR_auc}\")\n",
    "        print(f\"  AUC-PR: {zeroR_auprc}\")"
   ]
  },
  {
   "cell_type": "code",
   "execution_count": 18,
   "id": "08a6a7e6",
   "metadata": {},
   "outputs": [
    {
     "name": "stdout",
     "output_type": "stream",
     "text": [
      "[LibSVM]Test - Acc: 0.8953415261503287, F1: 0.2185232607767819, AUC: 0.8477529027609151, AUC-PR: 0.22145262999388118, Precision: 0.1299492385786802, Recall: 0.6863270777479893\n"
     ]
    },
    {
     "data": {
      "image/png": "[encoded data removed]",
      "text/plain": [
       "<Figure size 640x480 with 2 Axes>"
      ]
     },
     "metadata": {},
     "output_type": "display_data"
    },
    {
     "name": "stdout",
     "output_type": "stream",
     "text": [
      "ZeroR Baseline Metrics:\n",
      "  Accuracy: 0.9786796227493569\n",
      "  F1 Score: 0.0\n",
      "  Precision: 0.0\n",
      "  Recall: 0.0\n",
      "  AUC: 0.5\n",
      "  AUC-PR: 0.021320377250643043\n"
     ]
    }
   ],
   "source": [
    "trainAndEvaluate(show=True)"
   ]
  },
  {
   "cell_type": "markdown",
   "id": "e1d5f2f3",
   "metadata": {},
   "source": [
    "Non-linear SVM take a lot of time to fit on large data, so we need to transform our data into linear one or train on GPU."
   ]
  },
  {
   "cell_type": "code",
   "execution_count": null,
   "id": "abda1ebc",
   "metadata": {},
   "outputs": [],
   "source": [
    "#TODO: transform data to linear or use GPU in training"
   ]
  },
  {
   "cell_type": "markdown",
   "id": "a4a28c7a",
   "metadata": {},
   "source": [
    "### We have the problem of the heavily imbalanced dataset which we will try to solve by:\n",
    "1) Using a subset of the dataset with an equal distribution for both target classes\n",
    "2) Over-sampling the dataset by generating samples from the minor class"
   ]
  },
  {
   "cell_type": "code",
   "execution_count": 22,
   "id": "fe507c1f",
   "metadata": {},
   "outputs": [
    {
     "name": "stdout",
     "output_type": "stream",
     "text": [
      "anomaly\n",
      "1    37296\n",
      "0    37296\n",
      "Name: count, dtype: int64\n"
     ]
    }
   ],
   "source": [
    "# Create a balanced sample from the dataset\n",
    "class_0 = df[df['anomaly'] == 0]\n",
    "class_1 = df[df['anomaly'] == 1]\n",
    "\n",
    "# Sample equal number from each class (based on minority class size)\n",
    "min_len = min(len(class_0), len(class_1))\n",
    "df_balanced = pd.concat([\n",
    "    class_0.sample(min_len, random_state=42),\n",
    "    class_1.sample(min_len, random_state=42)\n",
    "], ignore_index=True).sample(frac=1, random_state=42)  # Shuffle\n",
    "\n",
    "print(df_balanced['anomaly'].value_counts())"
   ]
  },
  {
   "cell_type": "code",
   "execution_count": 23,
   "id": "76c82842",
   "metadata": {},
   "outputs": [
    {
     "name": "stdout",
     "output_type": "stream",
     "text": [
      "33566 33566\n",
      "3730 3730\n",
      "(67132, 29) (67132,)\n",
      "(7460, 29) (7460,)\n"
     ]
    }
   ],
   "source": [
    "# Separate features and target\n",
    "y = df_balanced['anomaly'].values\n",
    "X = df_balanced.drop(columns=['anomaly']).values\n",
    "\n",
    "# Save meter_reading column separately\n",
    "meter_reading = df_balanced['meter_reading'].values\n",
    "\n",
    "# Scale the data\n",
    "scaler = StandardScaler()\n",
    "X = scaler.fit_transform(X)\n",
    "\n",
    "# Train/Val/Test split with stratification\n",
    "X_train, X_test, y_train, y_test, meter_train, meter_test = train_test_split(\n",
    "    X, y, meter_reading, test_size=0.1, random_state=42, stratify=y)\n",
    "\n",
    "print(len(y_train[y_train == 1]), len(y_train[y_train == 0]))\n",
    "print(len(y_test[y_test == 1]), len(y_test[y_test == 0]))\n",
    "\n",
    "print(X_train.shape, y_train.shape)\n",
    "print(X_test.shape, y_test.shape)"
   ]
  },
  {
   "cell_type": "code",
   "execution_count": null,
   "id": "c5df11c4",
   "metadata": {},
   "outputs": [
    {
     "name": "stdout",
     "output_type": "stream",
     "text": [
      "[LibSVM]"
     ]
    }
   ],
   "source": [
    "model = SVC(kernel='rbf', probability=True, verbose= True)\n",
    "trainAndEvaluate(show=True)"
   ]
  }
 ],
 "metadata": {
  "kernelspec": {
   "display_name": "Python 3",
   "language": "python",
   "name": "python3"
  },
  "language_info": {
   "codemirror_mode": {
    "name": "ipython",
    "version": 3
   },
   "file_extension": ".py",
   "mimetype": "text/x-python",
   "name": "python",
   "nbconvert_exporter": "python",
   "pygments_lexer": "ipython3",
   "version": "3.10.11"
  }
 },
 "nbformat": 4,
 "nbformat_minor": 5
}
